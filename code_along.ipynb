{
 "cells": [
  {
   "cell_type": "code",
   "execution_count": null,
   "metadata": {},
   "outputs": [],
   "source": [
    "#Import all of the necessary packages\n",
    "import matplotlib.pyplot as plt\n",
    "import numpy as np \n",
    "import pandas as pd"
   ]
  },
  {
   "cell_type": "markdown",
   "metadata": {},
   "source": [
    "We will now download the dataset consisting of the AAPL stock price over the last 10 years."
   ]
  },
  {
   "cell_type": "code",
   "execution_count": null,
   "metadata": {},
   "outputs": [],
   "source": [
    "#download dataframe here\n"
   ]
  },
  {
   "cell_type": "markdown",
   "metadata": {},
   "source": [
    "We will now need to do some data preprocessing."
   ]
  },
  {
   "cell_type": "code",
   "execution_count": null,
   "metadata": {},
   "outputs": [],
   "source": [
    "#do preprocessing here"
   ]
  },
  {
   "cell_type": "markdown",
   "metadata": {},
   "source": [
    "set index of dataset"
   ]
  },
  {
   "cell_type": "code",
   "execution_count": null,
   "metadata": {},
   "outputs": [],
   "source": [
    "#setting date index of dataset"
   ]
  },
  {
   "cell_type": "markdown",
   "metadata": {},
   "source": [
    "Calculate the simple moving average and ratio column"
   ]
  },
  {
   "cell_type": "code",
   "execution_count": null,
   "metadata": {},
   "outputs": [],
   "source": [
    "#calculate simple moving average and the ratio here\n"
   ]
  },
  {
   "cell_type": "markdown",
   "metadata": {},
   "source": [
    "Find percentiles and in regards to ratio and apply them to create a graph"
   ]
  },
  {
   "cell_type": "code",
   "execution_count": null,
   "metadata": {},
   "outputs": [],
   "source": []
  },
  {
   "cell_type": "markdown",
   "metadata": {},
   "source": [
    "now calculate the signals of the strategy based upon these percentiles"
   ]
  },
  {
   "cell_type": "code",
   "execution_count": null,
   "metadata": {},
   "outputs": [],
   "source": []
  },
  {
   "cell_type": "markdown",
   "metadata": {},
   "source": [
    "Calculate PNL"
   ]
  },
  {
   "cell_type": "code",
   "execution_count": null,
   "metadata": {},
   "outputs": [],
   "source": [
    "def calc_pnl(df):\n",
    "    position = 0 \n",
    "    entry_price = 0 \n",
    "    pnl = []  \n",
    "    for index, row in df.iterrows():\n",
    "        signal = row['Signal']\n",
    "        price = row['Close']\n",
    "        if position == 0: \n",
    "            if signal == 1:\n",
    "                position = 1\n",
    "                entry_price = price\n",
    "                pnl.append(0)\n",
    "            else:\n",
    "                pnl.append(0)\n",
    "        elif position == 1: \n",
    "            if signal == -1:\n",
    "                if price < entry_price:\n",
    "                    print(price, entry_price)\n",
    "                pnl.append(price - entry_price)\n",
    "                position = 0\n",
    "            else:\n",
    "                pnl.append(0)\n",
    "    df['pnl'] = np.cumsum(pnl)\n",
    "    return df\n",
    "df = calc_pnl(df)"
   ]
  },
  {
   "cell_type": "code",
   "execution_count": null,
   "metadata": {},
   "outputs": [],
   "source": [
    "#plot pnl\n",
    "plt.plot(df['pnl'], label='PNL')\n",
    "plt.title('Profit and Loss Over Time')\n",
    "plt.show()"
   ]
  },
  {
   "cell_type": "code",
   "execution_count": null,
   "metadata": {},
   "outputs": [],
   "source": [
    "#plot how our signals change over time\n",
    "#For a better view on the decisions our algorithm makes\n",
    "df['Buy'] = np.where(df.Signal == 1, df['Close'], np.nan)\n",
    "df['Sell'] = np.where(df.Signal == -1, df['Close'], np.nan)\n",
    "plt.title('Close Price w/ Buy and Sell Signals')\n",
    "plt.plot(df['Close'], alpha=0.5, label = 'Close')\n",
    "plt.plot(df['SMA'], alpha = 0.5, label='SMA')\n",
    "plt.scatter(df.index, df.Buy, alpha = 1, color = 'green', label = 'Buy Signal', marker = '^')\n",
    "plt.scatter(df.index, df.Sell, alpha = 1, color = 'red', label = 'Sell Signal', marker = '^')\n",
    "plt.xlim(pd.to_datetime(\"1/1/2016\"), pd.to_datetime(\"6/1/2019\"))\n",
    "plt.legend()\n",
    "plt.show()"
   ]
  },
  {
   "cell_type": "code",
   "execution_count": null,
   "metadata": {},
   "outputs": [],
   "source": [
    "#Check how different percentiles affect pnl\n",
    "buy_percentile = 80 #Change with your own value\n",
    "sell_percentile = 20 #Change with your own value\n",
    "calc_signals(buy_percentile, sell_percentile)\n",
    "calc_pnl(df)\n",
    "plt.plot(df['pnl'], label='PNL')\n",
    "plt.title('Profit and Loss Over Time')\n",
    "plt.show()\n",
    "print(df['pnl'].tail(1))"
   ]
  },
  {
   "cell_type": "markdown",
   "metadata": {},
   "source": [
    "## Momentum Based Strategy"
   ]
  },
  {
   "cell_type": "code",
   "execution_count": null,
   "metadata": {},
   "outputs": [],
   "source": [
    "df = pd.read_csv(\"data.csv\")\n",
    "df.rename(columns={\" Close/Last\":\"Close\", \" Volume\":\"Volume\", \" Open\":\"Open\", \" High\":\"High\", \" Low\":\"Low\"}, inplace=True)\n",
    "bad_columns = ['Close', 'Open', 'High', 'Low']\n",
    "for col in bad_columns:\n",
    "    df[col] = df[col].apply(lambda x: float(x.strip(\" \")[1:]))\n",
    "df = df.set_index(pd.DatetimeIndex(df['Date'].values))\n",
    "df = df.sort_index()\n",
    "df.drop(labels=['Date', 'Open', 'High', 'Low', 'Volume'], axis=1, inplace=True)\n",
    "print(df.head())"
   ]
  },
  {
   "cell_type": "code",
   "execution_count": null,
   "metadata": {},
   "outputs": [],
   "source": [
    "## change the window size from 15 to other windows to check model acccuracy\n",
    "price_diff = df['Close'].diff()\n",
    "price_diff.dropna(inplace=True)\n",
    "\n",
    "price_up = price_diff.copy()\n",
    "price_down = price_diff.copy()\n",
    "\n",
    "price_up[price_up < 0] = 0\n",
    "price_down[price_down > 0] = 0\n",
    "price_down *= (-1)\n",
    "avg_up = price_up.rolling(15).mean()\n",
    "avg_down = price_down.rolling(15).mean()\n",
    "rsi = 100 * (avg_up /(avg_up + avg_down))\n",
    "rsi.dropna(inplace=True)\n",
    "q_25 = np.percentile(rsi, [25])\n",
    "q_75 = np.percentile(rsi, [75])\n",
    "print(q_25, q_75)"
   ]
  },
  {
   "cell_type": "code",
   "execution_count": null,
   "metadata": {},
   "outputs": [],
   "source": [
    "plt.plot(rsi, label='RSI')\n",
    "plt.axhline(q_25, c='red', label=\"25th percentile\")\n",
    "plt.axhline(q_75, c='green', label=\"75th percentile\")\n",
    "plt.legend()\n",
    "plt.show()"
   ]
  },
  {
   "cell_type": "code",
   "execution_count": null,
   "metadata": {},
   "outputs": [],
   "source": [
    "df['RSI'] = rsi\n",
    "df['Signal'] = 0  # Default to hold\n",
    "df['RSI'] = df['RSI'].fillna(50)\n",
    "q_25 = df['RSI'].quantile(0.25)\n",
    "q_75 = df['RSI'].quantile(0.75)\n",
    "df.loc[df['RSI'] < q_25, 'Signal'] = 1  # Buy signal\n",
    "df.loc[df['RSI'] > q_75, 'Signal'] = -1  # Sell signal\n",
    "df = calc_pnl(df)\n",
    "plt.plot(df['pnl'], label='PNL')\n",
    "plt.title('Profit and Loss Over Time')\n",
    "plt.show()"
   ]
  },
  {
   "cell_type": "code",
   "execution_count": null,
   "metadata": {},
   "outputs": [],
   "source": [
    "#For a better view on the decisions our algorithm makes\n",
    "df['Buy'] = np.where(df.Signal == 1, df['Close'], np.nan)\n",
    "df['Sell'] = np.where(df.Signal == -1, df['Close'], np.nan)\n",
    "plt.title('Close Price w/ Buy and Sell Signals')\n",
    "plt.plot(df['Close'], alpha=0.5, label = 'Close')\n",
    "plt.scatter(df.index, df.Buy, alpha = 1, color = 'green', label = 'Buy Signal', marker = '^')\n",
    "plt.scatter(df.index, df.Sell, alpha = 1, color = 'red', label = 'Sell Signal', marker = '^')\n",
    "plt.xlim(pd.to_datetime(\"1/1/2016\"), pd.to_datetime(\"6/1/2019\"))\n",
    "plt.legend()\n",
    "plt.show()"
   ]
  },
  {
   "cell_type": "markdown",
   "metadata": {},
   "source": [
    "## We will now switch to the LSTM Strategy on the other python notebook"
   ]
  }
 ],
 "metadata": {
  "kernelspec": {
   "display_name": "Python 3",
   "language": "python",
   "name": "python3"
  },
  "language_info": {
   "codemirror_mode": {
    "name": "ipython",
    "version": 3
   },
   "file_extension": ".py",
   "mimetype": "text/x-python",
   "name": "python",
   "nbconvert_exporter": "python",
   "pygments_lexer": "ipython3",
   "version": "3.12.2"
  }
 },
 "nbformat": 4,
 "nbformat_minor": 2
}
